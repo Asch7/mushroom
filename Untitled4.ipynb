{
  "nbformat": 4,
  "nbformat_minor": 0,
  "metadata": {
    "colab": {
      "name": "Untitled4.ipynb",
      "provenance": []
    },
    "kernelspec": {
      "name": "python3",
      "display_name": "Python 3"
    },
    "language_info": {
      "name": "python"
    }
  },
  "cells": [
    {
      "cell_type": "code",
      "execution_count": 148,
      "metadata": {
        "id": "KBW26As4jiYw"
      },
      "outputs": [],
      "source": [
        "from sklearn.model_selection import train_test_split\n",
        "import pandas as pd\n",
        "import numpy as np \n",
        "from collections import Counter\n",
        "import matplotlib.pyplot as plt\n",
        "from tqdm import tqdm\n",
        "import time\n",
        "import seaborn as sns\n",
        "from sklearn.neighbors import KNeighborsClassifier\n",
        "from sklearn.linear_model import LogisticRegression\n",
        "from sklearn.naive_bayes import GaussianNB\n",
        "from sklearn.ensemble import RandomForestClassifier\n",
        "from sklearn.ensemble import AdaBoostClassifier\n",
        "from lightgbm import LGBMClassifier\n",
        "from sklearn.svm import SVC\n",
        "from tqdm import tqdm\n",
        "total_result = dict() # to store the result of diferent approaches "
      ]
    },
    {
      "cell_type": "code",
      "source": [
        "df = pd.read_csv('/content/mushrooms.csv', converters={'class': lambda x: int(x == 'p')})\n",
        "\n",
        "from sklearn import preprocessing\n",
        "\n",
        "le = preprocessing.LabelEncoder()\n",
        "def labalize(data):\n",
        "    try:\n",
        "        for column_name in data.columns:\n",
        "            if data[column_name].dtype == object:\n",
        "                data[column_name] = le.fit_transform(data[column_name])\n",
        "            else:\n",
        "                pass\n",
        "    except:\n",
        "        pass\n",
        "[labalize(df) for d in df]\n",
        "\n",
        "x = df.drop(labels=['class'], axis=1)\n",
        "y = df['class']\n",
        "\n",
        "x_train, x_test, y_train, y_test = train_test_split( x, y, test_size=0.5)\n",
        "x_train, x_valid, y_train, y_valid = train_test_split( x_train, y_train, test_size = 0.5, random_state = 42)\n",
        "\n",
        "x_train.shape, x_test.shape, y_train.shape, y_test.shape"
      ],
      "metadata": {
        "colab": {
          "base_uri": "https://localhost:8080/"
        },
        "id": "tYdwQ34h-jUg",
        "outputId": "9a73d40f-9010-40ee-962d-1ec34c9ac37f"
      },
      "execution_count": 149,
      "outputs": [
        {
          "output_type": "execute_result",
          "data": {
            "text/plain": [
              "((2031, 22), (4062, 22), (2031,), (4062,))"
            ]
          },
          "metadata": {},
          "execution_count": 149
        }
      ]
    },
    {
      "cell_type": "markdown",
      "source": [
        "# 1. Decision Tree"
      ],
      "metadata": {
        "id": "tkrfkyHVCiTm"
      }
    },
    {
      "cell_type": "code",
      "source": [
        "from sklearn.tree import DecisionTreeClassifier\n",
        "\n",
        "\n",
        "def calculate_acc(y_pred, y_test):\n",
        "  return np.mean(y_pred == y_test)\n",
        "\n",
        "clf = DecisionTreeClassifier()\n",
        "clf.fit(x_train, y_train)\n",
        "y_pred = clf.predict(x_test)\n",
        "\n",
        "print(f\"Default DecisionTreeClassifier accuracy: {calculate_acc(y_pred, y_test)*100:.2f}%\")"
      ],
      "metadata": {
        "colab": {
          "base_uri": "https://localhost:8080/"
        },
        "id": "wloDbk3XCd1k",
        "outputId": "7986c4bb-21b2-48d5-caf0-85f6a659ed64"
      },
      "execution_count": 150,
      "outputs": [
        {
          "output_type": "stream",
          "name": "stdout",
          "text": [
            "Default DecisionTreeClassifier accuracy: 100.00%\n"
          ]
        }
      ]
    },
    {
      "cell_type": "code",
      "source": [
        "# hyperparameter tuning\n",
        "depths = range(1, 21)\n",
        "depth_mae = dict()\n",
        "for depth in depths:\n",
        "  clf = DecisionTreeClassifier(max_depth = depth)\n",
        "  clf.fit(x_train, y_train)\n",
        "  y_pred = clf.predict(x_test)\n",
        "  acc = calculate_acc(y_pred, y_test)\n",
        "  depth_mae[depth] = acc"
      ],
      "metadata": {
        "id": "u_zbnYD5Eris"
      },
      "execution_count": 151,
      "outputs": []
    },
    {
      "cell_type": "code",
      "source": [
        "import matplotlib.pyplot as plt\n",
        "plt.plot(list(depth_mae.keys()), list(depth_mae.values()))\n",
        "plt.xlabel('Depth')\n",
        "plt.ylabel('Test ACC')"
      ],
      "metadata": {
        "colab": {
          "base_uri": "https://localhost:8080/",
          "height": 297
        },
        "id": "LeFRA5TmFAye",
        "outputId": "ad8dc1be-01f3-43fb-9f20-5c150bccf442"
      },
      "execution_count": 152,
      "outputs": [
        {
          "output_type": "execute_result",
          "data": {
            "text/plain": [
              "Text(0, 0.5, 'Test ACC')"
            ]
          },
          "metadata": {},
          "execution_count": 152
        },
        {
          "output_type": "display_data",
          "data": {
            "text/plain": [
              "<Figure size 432x288 with 1 Axes>"
            ],
            "image/png": "[encoded data removed]"
          },
          "metadata": {
            "needs_background": "light"
          }
        }
      ]
    },
    {
      "cell_type": "markdown",
      "source": [
        "# 2. KNN"
      ],
      "metadata": {
        "id": "IDRnq7QmGK85"
      }
    },
    {
      "cell_type": "code",
      "source": [
        "knn_model = KNeighborsClassifier(n_neighbors=1)\n",
        "knn_model.fit(x_train, y_train)\n",
        "\n",
        "print(f\"Accuracy on test set: {knn_model.score(x_test, y_test)*100:.2f}%\")\n"
      ],
      "metadata": {
        "colab": {
          "base_uri": "https://localhost:8080/"
        },
        "id": "BfBz-mQZFlHR",
        "outputId": "a6cd57af-9422-46af-922e-829c82ab220f"
      },
      "execution_count": 153,
      "outputs": [
        {
          "output_type": "stream",
          "name": "stdout",
          "text": [
            "Accuracy on test set: 99.90%\n"
          ]
        }
      ]
    },
    {
      "cell_type": "code",
      "source": [
        "# Tuning hyperparameter k\n",
        "acc_train = []\n",
        "acc_test = []\n",
        "k_range = range(1, 20, 2)\n",
        "for k in tqdm(k_range):\n",
        "  knn_model = KNeighborsClassifier(n_neighbors=k)\n",
        "  knn_model.fit(x_train, y_train)\n",
        "  acc_test.append(knn_model.score(x_test, y_test))\n",
        "  acc_train.append(knn_model.score(x_train, y_train))\n",
        "  # print(f\"k={k} - test acc={acc_test[-1]*100:0.2f}% - train acc={acc_train[-1]*100:0.2f}%\")\n",
        "plt.plot(k_range, acc_train, 'r')\n",
        "plt.plot(k_range, acc_test, 'g')\n",
        "plt.legend(['Train', 'Test'])\n",
        "plt.xlabel('Number of Neighbors')\n",
        "plt.ylabel('Accuracy')\n",
        "\n",
        "print(f\"best k: {k_range[np.argmax(acc_test)]}\")"
      ],
      "metadata": {
        "colab": {
          "base_uri": "https://localhost:8080/",
          "height": 315
        },
        "id": "EjUvHpI8HAfT",
        "outputId": "6682e898-448c-4bd1-bc17-9c72bb835907"
      },
      "execution_count": 154,
      "outputs": [
        {
          "output_type": "stream",
          "name": "stderr",
          "text": [
            "100%|██████████| 10/10 [00:04<00:00,  2.18it/s]\n"
          ]
        },
        {
          "output_type": "stream",
          "name": "stdout",
          "text": [
            "best k: 1\n"
          ]
        },
        {
          "output_type": "display_data",
          "data": {
            "text/plain": [
              "<Figure size 432x288 with 1 Axes>"
            ],
            "image/png": "[encoded data removed]"
          },
          "metadata": {
            "needs_background": "light"
          }
        }
      ]
    },
    {
      "cell_type": "code",
      "source": [
        "c_arr = [0.001, 0.01, 0.1, 1, 10, 1e2, 1e3, 1e4, 1e5, 1e6]\n",
        "train_acc = []\n",
        "test_acc = []\n",
        "for C in tqdm(c_arr):\n",
        "  svc = SVC(C=C)\n",
        "  svc.fit(x_train, y_train)\n",
        "\n",
        "  test_acc.append(svc.score(x_test, y_test))\n",
        "  train_acc.append(svc.score(x_train, y_train))\n",
        "\n"
      ],
      "metadata": {
        "colab": {
          "base_uri": "https://localhost:8080/"
        },
        "id": "OWWrX0lVHLQ7",
        "outputId": "30db6c7e-bf02-4a05-f10e-6a124a890f98"
      },
      "execution_count": 156,
      "outputs": [
        {
          "output_type": "stream",
          "name": "stderr",
          "text": [
            "100%|██████████| 10/10 [00:04<00:00,  2.22it/s]\n"
          ]
        }
      ]
    },
    {
      "cell_type": "code",
      "source": [
        "# plot for hyper parametter accuracy \n",
        "plt.plot(np.log10(c_arr), train_acc, 'r')\n",
        "plt.plot(np.log10(c_arr), test_acc, 'b')\n",
        "plt.legend(['Train', 'Test'])\n",
        "plt.xlabel('log(C)')\n",
        "plt.ylabel('Accuracy')\n",
        "plt.show()"
      ],
      "metadata": {
        "colab": {
          "base_uri": "https://localhost:8080/",
          "height": 279
        },
        "id": "Pk2sM6zTIxU0",
        "outputId": "e3bf9267-32ac-4839-84d2-a1beac87db5a"
      },
      "execution_count": 157,
      "outputs": [
        {
          "output_type": "display_data",
          "data": {
            "text/plain": [
              "<Figure size 432x288 with 1 Axes>"
            ],
            "image/png": "[encoded data removed]"
          },
          "metadata": {
            "needs_background": "light"
          }
        }
      ]
    },
    {
      "cell_type": "markdown",
      "source": [
        "# 4. Naive Bayes"
      ],
      "metadata": {
        "id": "xnyA5oUsNHpM"
      }
    },
    {
      "cell_type": "code",
      "source": [
        "gnb = GaussianNB()\n",
        "y_pred = gnb.fit(x_train, y_train).predict(x_valid)\n",
        "# total_true = int((y_test != y_pred).sum())\n",
        "len_train  = x_test.shape[0]\n",
        "total_trues = (y_valid != y_pred).sum()\n",
        "print(\"Number of mislabeled points out of a total %d points : %d\"\n",
        "      % (len_train, total_trues))\n",
        "total_result['Naive_Bayes'] = (len_train - total_trues) / len_train * 100\n",
        "total_result"
      ],
      "metadata": {
        "colab": {
          "base_uri": "https://localhost:8080/"
        },
        "id": "5uz19-pxI3Jx",
        "outputId": "ed9dd612-8715-4b56-9373-dba78fdf66b3"
      },
      "execution_count": 158,
      "outputs": [
        {
          "output_type": "stream",
          "name": "stdout",
          "text": [
            "Number of mislabeled points out of a total 4062 points : 172\n"
          ]
        },
        {
          "output_type": "execute_result",
          "data": {
            "text/plain": [
              "{'Naive_Bayes': 95.76563269325456}"
            ]
          },
          "metadata": {},
          "execution_count": 158
        }
      ]
    },
    {
      "cell_type": "markdown",
      "source": [
        "# 5 Random Forest"
      ],
      "metadata": {
        "id": "Ib1RO5uNOEA3"
      }
    },
    {
      "cell_type": "code",
      "source": [
        "clf = RandomForestClassifier()\n",
        "clf.fit(x_train, y_train)\n",
        "clf.score(x_valid, y_valid)\n",
        "total_result['Random_Forest'] = clf.score(x_test, y_test)\n",
        "print(clf.score(x_test, y_test))\n",
        "#Random Forest\n",
        "print (\"Processing Random Forest\")\n",
        "rf = RandomForestClassifier(n_estimators = 1000, random_state = 1)\n",
        "rf.fit(x_train, y_train)\n",
        "y_test_pred = rf.predict(x_test)\n",
        "print(\"Random Forest Algorithm Accuracy Score : {:.2f}%\".format(rf.score(x_test,y_test)*100))"
      ],
      "metadata": {
        "colab": {
          "base_uri": "https://localhost:8080/"
        },
        "id": "PUTv2s1ONpWS",
        "outputId": "50ba0182-147f-492c-f0fb-1c0ac30e13e7"
      },
      "execution_count": 159,
      "outputs": [
        {
          "output_type": "stream",
          "name": "stdout",
          "text": [
            "1.0\n",
            "Processing Random Forest\n",
            "Random Forest Algorithm Accuracy Score : 100.00%\n"
          ]
        }
      ]
    },
    {
      "cell_type": "code",
      "source": [
        "# hyper parameter : n_estiamtors (the number of trees)\n",
        "trees = []\n",
        "scores = []\n",
        "for i in range(1, 1001, 200 ):\n",
        "    clf = RandomForestClassifier(random_state=0, n_estimators = i)\n",
        "    clf.fit(x_train, y_train)\n",
        "    score = clf.score(x_valid, y_valid)\n",
        "    trees.append(i)\n",
        "    scores.append(score)"
      ],
      "metadata": {
        "id": "v2rdFAfUOXLa"
      },
      "execution_count": 160,
      "outputs": []
    },
    {
      "cell_type": "code",
      "source": [
        "print(trees, scores)"
      ],
      "metadata": {
        "colab": {
          "base_uri": "https://localhost:8080/"
        },
        "id": "wPoamk5_Ocy6",
        "outputId": "c39150d6-f15f-486c-b17f-58c7db14c98e"
      },
      "execution_count": 161,
      "outputs": [
        {
          "output_type": "stream",
          "name": "stdout",
          "text": [
            "[1, 201, 401, 601, 801] [0.9950763170851797, 1.0, 1.0, 1.0, 1.0]\n"
          ]
        }
      ]
    },
    {
      "cell_type": "code",
      "source": [
        ""
      ],
      "metadata": {
        "id": "0GhvNJ_mYatp"
      },
      "execution_count": null,
      "outputs": []
    }
  ]
}